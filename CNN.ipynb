{
 "cells": [
  {
   "cell_type": "code",
   "execution_count": 112,
   "id": "2410e49e",
   "metadata": {},
   "outputs": [
    {
     "name": "stdout",
     "output_type": "stream",
     "text": [
      "Torch version: 1.11.0\n"
     ]
    }
   ],
   "source": [
    "import torch\n",
    "import torch.nn as nn\n",
    "import torch.utils.data\n",
    "import torch.nn.functional as F\n",
    "import cv2\n",
    "import matplotlib.pyplot as plt"
   ]
  },
  {
   "cell_type": "code",
   "execution_count": 116,
   "id": "34b10db2",
   "metadata": {},
   "outputs": [
    {
     "data": {
      "image/png": "[encoded data removed]",
      "text/plain": [
       "<Figure size 432x288 with 1 Axes>"
      ]
     },
     "metadata": {
      "needs_background": "light"
     },
     "output_type": "display_data"
    }
   ],
   "source": [
    "%matplotlib inline\n",
    "img_path = 'sub_images_final/CP3wA5.epi.bmp'\n",
    "# Load color image \n",
    "bgr_img = cv2.imread(img_path)\n",
    "# Convert to grayscale\n",
    "gray_img = cv2.cvtColor(bgr_img, cv2.COLOR_BGR2GRAY)\n",
    "# Normalize, rescale entries to lie in [0,1]\n",
    "gray_img = gray_img.astype(\"float32\")/255\n",
    "# Plot image\n",
    "plt.imshow(gray_img, cmap='gray')\n",
    "plt.show()"
   ]
  },
  {
   "cell_type": "code",
   "execution_count": 48,
   "id": "69167d38",
   "metadata": {},
   "outputs": [
    {
     "data": {
      "image/png": "[encoded data removed]",
      "text/plain": [
       "<Figure size 432x288 with 1 Axes>"
      ]
     },
     "metadata": {
      "needs_background": "light"
     },
     "output_type": "display_data"
    }
   ],
   "source": [
    "img_path='sub_images_final/CP3wA5.trans.bmp'\n",
    "#img_path = 'sub_images_final/CP3wA5.trans.bmp'\n",
    "# Load color image \n",
    "bgr_img = cv2.imread(img_path)\n",
    "# Convert to grayscale\n",
    "gray_img = cv2.cvtColor(bgr_img, cv2.COLOR_BGR2GRAY)\n",
    "# Normalize, rescale entries to lie in [0,1]\n",
    "gray_img = gray_img.astype(\"float32\")/255\n",
    "# Plot image\n",
    "plt.imshow(gray_img, cmap='gray')\n",
    "plt.show()"
   ]
  },
  {
   "cell_type": "code",
   "execution_count": 367,
   "id": "697517a2",
   "metadata": {},
   "outputs": [],
   "source": [
    "cat_to_numeric={}\n",
    "with open(\"family.label.conversion.txt\") as f:\n",
    "    for line in f:\n",
    "      #  print(line)\n",
    "        cat_to_numeric[line.split()[0]]= line.split()[-1]"
   ]
  },
  {
   "cell_type": "code",
   "execution_count": 368,
   "id": "b952a86e",
   "metadata": {},
   "outputs": [],
   "source": [
    "isolate = []\n",
    "family = []\n",
    "with open (\"all.data\") as f:\n",
    "    for line in f:\n",
    "        isolate.append (line.split()[0])\n",
    "        family.append(line.split()[1])"
   ]
  },
  {
   "cell_type": "code",
   "execution_count": 415,
   "id": "eb4087de",
   "metadata": {},
   "outputs": [],
   "source": [
    "all_data=[]\n",
    "for i in range(len(isolate)):\n",
    "    iso=isolate[i]\n",
    "    lab= int(cat_to_numeric[family[i]])\n",
    "    #trans\n",
    "    img_path='sub_images_final/'+iso+'.trans.bmp'\n",
    "    bgr_img = cv2.imread(img_path)\n",
    "    # Convert to grayscale\n",
    "    gray_img = cv2.cvtColor(bgr_img, cv2.COLOR_BGR2GRAY)\n",
    "    gray_img = gray_img.astype(\"float32\")/255\n",
    "\n",
    "    gray_img_tensor_trans = torch.from_numpy(gray_img).unsqueeze(0)\n",
    "    #epi\n",
    "    img_path='sub_images_final/'+iso+'.epi.bmp'\n",
    "    bgr_img = cv2.imread(img_path)\n",
    "    gray_img_epi = cv2.cvtColor(bgr_img, cv2.COLOR_BGR2GRAY)\n",
    "    gray_img_epi = gray_img_epi.astype(\"float32\")/255\n",
    "    gray_img_tensor_epi = torch.from_numpy(gray_img).unsqueeze(0)\n",
    "    \n",
    "    comb_img_tensor=(torch.cat((gray_img_tensor_trans,gray_img_tensor_epi)),lab)\n",
    "    all_data.append(comb_img_tensor)"
   ]
  },
  {
   "cell_type": "code",
   "execution_count": 416,
   "id": "658ea72b",
   "metadata": {},
   "outputs": [
    {
     "data": {
      "text/plain": [
       "torch.Size([2, 50, 50])"
      ]
     },
     "execution_count": 416,
     "metadata": {},
     "output_type": "execute_result"
    }
   ],
   "source": [
    "comb_img_tensor[0].shape"
   ]
  },
  {
   "cell_type": "code",
   "execution_count": null,
   "id": "e41effad",
   "metadata": {},
   "outputs": [],
   "source": []
  },
  {
   "cell_type": "code",
   "execution_count": 417,
   "id": "928e6e5c",
   "metadata": {},
   "outputs": [],
   "source": [
    "from sklearn.model_selection import train_test_split\n",
    "\n",
    "train_data, test_data = train_test_split(all_data, test_size=0.2)"
   ]
  },
  {
   "cell_type": "code",
   "execution_count": 418,
   "id": "c402d153",
   "metadata": {},
   "outputs": [
    {
     "name": "stdout",
     "output_type": "stream",
     "text": [
      "number of training classes are: 16\n",
      "number of test classes are: 16\n"
     ]
    }
   ],
   "source": [
    "train_label=[]\n",
    "\n",
    "for i in range(len(train_data)):\n",
    "    train_label.append(train_data[i][1])\n",
    "print(\"number of training classes are:\",len(set(train_label)) )\n",
    "\n",
    "test_label=[]\n",
    "for i in range(len(test_data)):\n",
    "    test_label.append(test_data[i][1])\n",
    "print(\"number of test classes are:\",len(set(test_label)) )"
   ]
  },
  {
   "cell_type": "code",
   "execution_count": 419,
   "id": "3138b129",
   "metadata": {},
   "outputs": [],
   "source": [
    "train_loader = DataLoader(train_data, batch_size=20, shuffle=True, num_workers=0)\n",
    "test_loader= DataLoader(test_data,  shuffle=True, num_workers=0)\n",
    "#i1, l1 = next(iter(trainloader))"
   ]
  },
  {
   "cell_type": "code",
   "execution_count": 420,
   "id": "14581d58",
   "metadata": {},
   "outputs": [
    {
     "data": {
      "text/plain": [
       "13102"
      ]
     },
     "execution_count": 420,
     "metadata": {},
     "output_type": "execute_result"
    }
   ],
   "source": [
    "len(train_data)"
   ]
  },
  {
   "cell_type": "code",
   "execution_count": 429,
   "id": "751938fb",
   "metadata": {},
   "outputs": [],
   "source": [
    "import torch\n",
    "import torch.nn as nn\n",
    "import torchvision\n",
    "import torch.nn.functional as F\n",
    "\n",
    "# Define a convolution neural network\n",
    "class Network(nn.Module):\n",
    "    def __init__(self):\n",
    "        super(Network, self).__init__()\n",
    "        \n",
    "        self.conv1 = nn.Conv2d(in_channels=2, out_channels=12, kernel_size=5, stride=1, padding=1)\n",
    "        self.bn1 = nn.BatchNorm2d(12)\n",
    "        self.conv2 = nn.Conv2d(in_channels=12, out_channels=12, kernel_size=5, stride=1, padding=1)\n",
    "        self.bn2 = nn.BatchNorm2d(12)\n",
    "        self.pool = nn.MaxPool2d(2,2)\n",
    "        self.conv4 = nn.Conv2d(in_channels=12, out_channels=24, kernel_size=5, stride=1, padding=1)\n",
    "        self.bn4 = nn.BatchNorm2d(24)\n",
    "        self.conv5 = nn.Conv2d(in_channels=24, out_channels=24, kernel_size=5, stride=1, padding=1)\n",
    "        self.bn5 = nn.BatchNorm2d(24)\n",
    "        self.fc1 = nn.Linear(24*19*19,16 )\n",
    "\n",
    "    def forward(self, input):\n",
    "        output = F.relu(self.bn1(self.conv1(input)))      \n",
    "        output = F.relu(self.bn2(self.conv2(output)))     \n",
    "        output = self.pool(output)                        \n",
    "        output = F.relu(self.bn4(self.conv4(output)))     \n",
    "        output = F.relu(self.bn5(self.conv5(output)))   \n",
    "       # print(output.shape)\n",
    "        output = output.view(-1, 24*19*19)\n",
    "      #  print(output.shape)\n",
    "        output = self.fc1(output)\n",
    "       # print(output)\n",
    "\n",
    "        return output\n",
    "\n",
    "# Instantiate a neural network model \n",
    "model = Network()"
   ]
  },
  {
   "cell_type": "code",
   "execution_count": 430,
   "id": "3b04fe0e",
   "metadata": {},
   "outputs": [],
   "source": [
    "from torch.optim import Adam\n",
    " \n",
    "# Define the loss function with Classification Cross-Entropy loss and an optimizer with Adam optimizer\n",
    "loss_fn = nn.CrossEntropyLoss()\n",
    "optimizer = Adam(model.parameters(), lr=0.000001, weight_decay=0.0001)\n"
   ]
  },
  {
   "cell_type": "markdown",
   "id": "04dd1e31",
   "metadata": {},
   "source": [
    "# Training:"
   ]
  },
  {
   "cell_type": "code",
   "execution_count": 431,
   "id": "7a7b81f1",
   "metadata": {},
   "outputs": [],
   "source": [
    "from torch.autograd import Variable\n",
    "\n",
    "# Function to save the model\n",
    "def saveModel():\n",
    "    path = \"./myCNNModel.pth\"\n",
    "    torch.save(model.state_dict(), path)\n",
    "\n",
    "# Function to test the model with the test dataset and print the accuracy for the test images\n",
    "predicted_label=[]\n",
    "def testAccuracy():\n",
    "    \n",
    "    model.eval()\n",
    "    accuracy = 0.0\n",
    "    total = 0.0\n",
    "    \n",
    "    with torch.no_grad():\n",
    "        for data in test_loader:\n",
    "            images, labels = data\n",
    "          #  print(labels)\n",
    "            # run the model on the test set to predict labels\n",
    "            outputs = model(images)\n",
    "            # the label with the highest energy will be our prediction\n",
    "            _, predicted = torch.max(outputs.data, 1)\n",
    "            predicted_label.append(int(predicted[0]))\n",
    "            total += labels.size(0)\n",
    "            accuracy += (predicted == labels).sum().item()\n",
    "    \n",
    "    # compute the accuracy over all test images\n",
    "    accuracy = (100 * accuracy / total)\n",
    "    return(accuracy)\n",
    "\n",
    "\n",
    "# Training function. We simply have to loop over our data iterator and feed the inputs to the network and optimize.\n",
    "def train(num_epochs):\n",
    "    \n",
    "    best_accuracy = 0.0\n",
    "\n",
    "    # Define your execution device\n",
    "    device = torch.device(\"cuda:0\" if torch.cuda.is_available() else \"cpu\")\n",
    "    print(\"The model will be running on\", device, \"device\")\n",
    "    # Convert model parameters and buffers to CPU or Cuda\n",
    "    model.to(device)\n",
    "\n",
    "    for epoch in range(num_epochs):  # loop over the dataset multiple times\n",
    "        running_loss = 0.0\n",
    "        running_acc = 0.0\n",
    "\n",
    "        for i, (images, labels) in enumerate(train_loader, 0):\n",
    "           # print(labels)\n",
    "            # get the inputs\n",
    "            images = Variable(images.to(device))\n",
    "            labels = Variable(labels.to(device))\n",
    "            #print(labels)\n",
    "            # zero the parameter gradients\n",
    "            optimizer.zero_grad()\n",
    "            # predict classes using images from the training set\n",
    "            outputs = model(images)\n",
    "            #print(outputs)\n",
    "            # compute the loss based on model output and real labels\n",
    "            loss = loss_fn(outputs, labels)\n",
    "            # backpropagate the loss\n",
    "            loss.backward()\n",
    "            # adjust parameters based on the calculated gradients\n",
    "            optimizer.step()\n",
    "\n",
    "            # Let's print statistics for every 1,000 images\n",
    "            #print(i)\n",
    "            running_loss += loss.item()     # extract the loss value\n",
    "            if i % 500 == 499:    \n",
    "                # print every 1000 (twice per epoch) \n",
    "                print('[%d, %5d] loss: %.3f' %\n",
    "                      (epoch + 1, i + 1, running_loss / 500))\n",
    "                # zero the loss\n",
    "                running_loss = 0.0\n",
    "\n",
    "        # Compute and print the average accuracy fo this epoch when tested over all 10000 test images\n",
    "        accuracy = testAccuracy()\n",
    "        print('For epoch', epoch+1,'the test accuracy over the whole test set is %d %%' % (accuracy))\n",
    "        \n",
    "        # we want to save the model if the accuracy is the best\n",
    "        if accuracy > best_accuracy:\n",
    "            saveModel()\n",
    "            best_accuracy = accuracy"
   ]
  },
  {
   "cell_type": "code",
   "execution_count": 433,
   "id": "846909dc",
   "metadata": {},
   "outputs": [
    {
     "name": "stdout",
     "output_type": "stream",
     "text": [
      "The model will be running on cpu device\n",
      "[1,   500] loss: 1.933\n",
      "For epoch 1 the test accuracy over the whole test set is 38 %\n",
      "[2,   500] loss: 1.901\n",
      "For epoch 2 the test accuracy over the whole test set is 38 %\n",
      "[3,   500] loss: 1.868\n",
      "For epoch 3 the test accuracy over the whole test set is 38 %\n",
      "[4,   500] loss: 1.859\n",
      "For epoch 4 the test accuracy over the whole test set is 38 %\n",
      "[5,   500] loss: 1.858\n",
      "For epoch 5 the test accuracy over the whole test set is 38 %\n",
      "[6,   500] loss: 1.838\n",
      "For epoch 6 the test accuracy over the whole test set is 38 %\n",
      "[7,   500] loss: 1.821\n",
      "For epoch 7 the test accuracy over the whole test set is 39 %\n",
      "[8,   500] loss: 1.825\n",
      "For epoch 8 the test accuracy over the whole test set is 38 %\n",
      "[9,   500] loss: 1.821\n",
      "For epoch 9 the test accuracy over the whole test set is 39 %\n",
      "[10,   500] loss: 1.808\n",
      "For epoch 10 the test accuracy over the whole test set is 38 %\n",
      "[11,   500] loss: 1.808\n",
      "For epoch 11 the test accuracy over the whole test set is 39 %\n",
      "[12,   500] loss: 1.795\n",
      "For epoch 12 the test accuracy over the whole test set is 39 %\n",
      "[13,   500] loss: 1.790\n",
      "For epoch 13 the test accuracy over the whole test set is 39 %\n",
      "[14,   500] loss: 1.787\n",
      "For epoch 14 the test accuracy over the whole test set is 39 %\n",
      "[15,   500] loss: 1.787\n",
      "For epoch 15 the test accuracy over the whole test set is 39 %\n",
      "[16,   500] loss: 1.776\n",
      "For epoch 16 the test accuracy over the whole test set is 39 %\n",
      "[17,   500] loss: 1.770\n",
      "For epoch 17 the test accuracy over the whole test set is 40 %\n",
      "[18,   500] loss: 1.777\n",
      "For epoch 18 the test accuracy over the whole test set is 40 %\n",
      "[19,   500] loss: 1.770\n",
      "For epoch 19 the test accuracy over the whole test set is 40 %\n",
      "[20,   500] loss: 1.755\n",
      "For epoch 20 the test accuracy over the whole test set is 39 %\n",
      "[21,   500] loss: 1.763\n",
      "For epoch 21 the test accuracy over the whole test set is 40 %\n",
      "[22,   500] loss: 1.764\n",
      "For epoch 22 the test accuracy over the whole test set is 40 %\n",
      "[23,   500] loss: 1.762\n",
      "For epoch 23 the test accuracy over the whole test set is 40 %\n",
      "[24,   500] loss: 1.748\n",
      "For epoch 24 the test accuracy over the whole test set is 40 %\n",
      "[25,   500] loss: 1.756\n",
      "For epoch 25 the test accuracy over the whole test set is 40 %\n",
      "[26,   500] loss: 1.742\n",
      "For epoch 26 the test accuracy over the whole test set is 40 %\n",
      "[27,   500] loss: 1.746\n",
      "For epoch 27 the test accuracy over the whole test set is 40 %\n",
      "[28,   500] loss: 1.744\n",
      "For epoch 28 the test accuracy over the whole test set is 40 %\n",
      "[29,   500] loss: 1.746\n",
      "For epoch 29 the test accuracy over the whole test set is 40 %\n",
      "[30,   500] loss: 1.734\n",
      "For epoch 30 the test accuracy over the whole test set is 40 %\n",
      "[31,   500] loss: 1.725\n",
      "For epoch 31 the test accuracy over the whole test set is 40 %\n",
      "[32,   500] loss: 1.728\n",
      "For epoch 32 the test accuracy over the whole test set is 40 %\n",
      "[33,   500] loss: 1.717\n",
      "For epoch 33 the test accuracy over the whole test set is 40 %\n",
      "[34,   500] loss: 1.746\n",
      "For epoch 34 the test accuracy over the whole test set is 40 %\n",
      "[35,   500] loss: 1.730\n",
      "For epoch 35 the test accuracy over the whole test set is 40 %\n",
      "[36,   500] loss: 1.734\n",
      "For epoch 36 the test accuracy over the whole test set is 40 %\n",
      "[37,   500] loss: 1.732\n",
      "For epoch 37 the test accuracy over the whole test set is 40 %\n",
      "[38,   500] loss: 1.719\n",
      "For epoch 38 the test accuracy over the whole test set is 40 %\n",
      "[39,   500] loss: 1.711\n",
      "For epoch 39 the test accuracy over the whole test set is 40 %\n",
      "[40,   500] loss: 1.713\n",
      "For epoch 40 the test accuracy over the whole test set is 40 %\n",
      "[41,   500] loss: 1.714\n",
      "For epoch 41 the test accuracy over the whole test set is 40 %\n",
      "[42,   500] loss: 1.704\n",
      "For epoch 42 the test accuracy over the whole test set is 40 %\n",
      "[43,   500] loss: 1.708\n",
      "For epoch 43 the test accuracy over the whole test set is 40 %\n",
      "[44,   500] loss: 1.713\n",
      "For epoch 44 the test accuracy over the whole test set is 41 %\n",
      "[45,   500] loss: 1.696\n",
      "For epoch 45 the test accuracy over the whole test set is 41 %\n",
      "[46,   500] loss: 1.710\n",
      "For epoch 46 the test accuracy over the whole test set is 40 %\n",
      "[47,   500] loss: 1.700\n",
      "For epoch 47 the test accuracy over the whole test set is 41 %\n",
      "[48,   500] loss: 1.703\n",
      "For epoch 48 the test accuracy over the whole test set is 40 %\n",
      "[49,   500] loss: 1.698\n",
      "For epoch 49 the test accuracy over the whole test set is 40 %\n",
      "[50,   500] loss: 1.701\n",
      "For epoch 50 the test accuracy over the whole test set is 41 %\n",
      "[51,   500] loss: 1.696\n",
      "For epoch 51 the test accuracy over the whole test set is 41 %\n",
      "[52,   500] loss: 1.698\n",
      "For epoch 52 the test accuracy over the whole test set is 41 %\n",
      "[53,   500] loss: 1.698\n",
      "For epoch 53 the test accuracy over the whole test set is 41 %\n",
      "[54,   500] loss: 1.678\n",
      "For epoch 54 the test accuracy over the whole test set is 41 %\n",
      "[55,   500] loss: 1.681\n",
      "For epoch 55 the test accuracy over the whole test set is 41 %\n",
      "[56,   500] loss: 1.694\n",
      "For epoch 56 the test accuracy over the whole test set is 41 %\n",
      "[57,   500] loss: 1.681\n",
      "For epoch 57 the test accuracy over the whole test set is 41 %\n",
      "[58,   500] loss: 1.678\n",
      "For epoch 58 the test accuracy over the whole test set is 41 %\n",
      "[59,   500] loss: 1.683\n",
      "For epoch 59 the test accuracy over the whole test set is 41 %\n",
      "[60,   500] loss: 1.681\n",
      "For epoch 60 the test accuracy over the whole test set is 41 %\n",
      "[61,   500] loss: 1.682\n",
      "For epoch 61 the test accuracy over the whole test set is 41 %\n",
      "[62,   500] loss: 1.673\n",
      "For epoch 62 the test accuracy over the whole test set is 42 %\n",
      "[63,   500] loss: 1.669\n",
      "For epoch 63 the test accuracy over the whole test set is 41 %\n",
      "[64,   500] loss: 1.674\n",
      "For epoch 64 the test accuracy over the whole test set is 41 %\n",
      "[65,   500] loss: 1.679\n",
      "For epoch 65 the test accuracy over the whole test set is 42 %\n",
      "[66,   500] loss: 1.675\n",
      "For epoch 66 the test accuracy over the whole test set is 42 %\n",
      "[67,   500] loss: 1.664\n",
      "For epoch 67 the test accuracy over the whole test set is 42 %\n",
      "[68,   500] loss: 1.658\n",
      "For epoch 68 the test accuracy over the whole test set is 42 %\n",
      "[69,   500] loss: 1.664\n",
      "For epoch 69 the test accuracy over the whole test set is 42 %\n",
      "[70,   500] loss: 1.656\n",
      "For epoch 70 the test accuracy over the whole test set is 42 %\n",
      "[71,   500] loss: 1.654\n",
      "For epoch 71 the test accuracy over the whole test set is 42 %\n",
      "[72,   500] loss: 1.664\n",
      "For epoch 72 the test accuracy over the whole test set is 42 %\n",
      "[73,   500] loss: 1.653\n",
      "For epoch 73 the test accuracy over the whole test set is 42 %\n",
      "[74,   500] loss: 1.655\n",
      "For epoch 74 the test accuracy over the whole test set is 42 %\n",
      "[75,   500] loss: 1.646\n",
      "For epoch 75 the test accuracy over the whole test set is 42 %\n",
      "[76,   500] loss: 1.653\n",
      "For epoch 76 the test accuracy over the whole test set is 42 %\n",
      "[77,   500] loss: 1.660\n",
      "For epoch 77 the test accuracy over the whole test set is 42 %\n",
      "[78,   500] loss: 1.657\n",
      "For epoch 78 the test accuracy over the whole test set is 42 %\n",
      "[79,   500] loss: 1.646\n",
      "For epoch 79 the test accuracy over the whole test set is 42 %\n",
      "[80,   500] loss: 1.643\n",
      "For epoch 80 the test accuracy over the whole test set is 42 %\n",
      "[81,   500] loss: 1.649\n",
      "For epoch 81 the test accuracy over the whole test set is 42 %\n",
      "[82,   500] loss: 1.648\n",
      "For epoch 82 the test accuracy over the whole test set is 42 %\n",
      "[83,   500] loss: 1.636\n",
      "For epoch 83 the test accuracy over the whole test set is 42 %\n",
      "[84,   500] loss: 1.643\n",
      "For epoch 84 the test accuracy over the whole test set is 42 %\n",
      "[85,   500] loss: 1.647\n",
      "For epoch 85 the test accuracy over the whole test set is 42 %\n",
      "[86,   500] loss: 1.626\n",
      "For epoch 86 the test accuracy over the whole test set is 41 %\n",
      "[87,   500] loss: 1.645\n",
      "For epoch 87 the test accuracy over the whole test set is 42 %\n",
      "[88,   500] loss: 1.639\n",
      "For epoch 88 the test accuracy over the whole test set is 42 %\n",
      "[89,   500] loss: 1.641\n",
      "For epoch 89 the test accuracy over the whole test set is 42 %\n",
      "[90,   500] loss: 1.636\n",
      "For epoch 90 the test accuracy over the whole test set is 42 %\n",
      "[91,   500] loss: 1.635\n",
      "For epoch 91 the test accuracy over the whole test set is 42 %\n",
      "[92,   500] loss: 1.626\n",
      "For epoch 92 the test accuracy over the whole test set is 42 %\n",
      "[93,   500] loss: 1.621\n",
      "For epoch 93 the test accuracy over the whole test set is 42 %\n",
      "[94,   500] loss: 1.624\n",
      "For epoch 94 the test accuracy over the whole test set is 42 %\n"
     ]
    },
    {
     "name": "stdout",
     "output_type": "stream",
     "text": [
      "[95,   500] loss: 1.624\n",
      "For epoch 95 the test accuracy over the whole test set is 42 %\n",
      "[96,   500] loss: 1.617\n",
      "For epoch 96 the test accuracy over the whole test set is 42 %\n",
      "[97,   500] loss: 1.613\n",
      "For epoch 97 the test accuracy over the whole test set is 42 %\n",
      "[98,   500] loss: 1.614\n",
      "For epoch 98 the test accuracy over the whole test set is 42 %\n",
      "[99,   500] loss: 1.625\n",
      "For epoch 99 the test accuracy over the whole test set is 42 %\n",
      "[100,   500] loss: 1.613\n",
      "For epoch 100 the test accuracy over the whole test set is 42 %\n"
     ]
    }
   ],
   "source": [
    " train(100)"
   ]
  },
  {
   "cell_type": "code",
   "execution_count": 398,
   "id": "12270adc",
   "metadata": {},
   "outputs": [],
   "source": [
    "model = Network()\n",
    "path = \"myCNNModel.pth\"\n",
    "model.load_state_dict(torch.load(path))\n"
   ]
  },
  {
   "cell_type": "code",
   "execution_count": 434,
   "id": "8976aaf8",
   "metadata": {},
   "outputs": [],
   "source": [
    "accuracy = testAccuracy()"
   ]
  },
  {
   "cell_type": "code",
   "execution_count": 435,
   "id": "1efe13a9",
   "metadata": {},
   "outputs": [
    {
     "name": "stdout",
     "output_type": "stream",
     "text": [
      "42.918192918192915\n"
     ]
    }
   ],
   "source": [
    "print(accuracy)"
   ]
  },
  {
   "cell_type": "code",
   "execution_count": 456,
   "id": "7020fb9a",
   "metadata": {},
   "outputs": [],
   "source": [
    "#go through each family, calculate TP, FP, TN, FN\n",
    "results={}\n",
    "for i in set(test_label):\n",
    "    #print(i)\n",
    "    #true positive:\n",
    "    tp=0\n",
    "    fp=0\n",
    "    tn=0\n",
    "    fn=0\n",
    "    for c in range(len(predicted_label)):\n",
    "        if predicted_label[c] == i:\n",
    "            if test_label[c]==i:\n",
    "                tp+=1\n",
    "            else:\n",
    "                fp+=1\n",
    "        else:\n",
    "            if test_label[c]!=i:\n",
    "                tn+=1\n",
    "            else:\n",
    "                fn+=1\n",
    "    prec=0\n",
    "    rec=0\n",
    "    if (tp+fp) >0:\n",
    "        prec= tp/(tp+fp)\n",
    "    if (tp+fn)>0:\n",
    "        rec=tp/(tp+fn)\n",
    "    results[i]=[tp, fp, tn, fn, prec,rec]"
   ]
  },
  {
   "cell_type": "code",
   "execution_count": 457,
   "id": "9f2ac102",
   "metadata": {},
   "outputs": [
    {
     "data": {
      "text/plain": [
       "{0: [627, 1119, 1001, 529, 0.359106529209622, 0.5423875432525952],\n",
       " 1: [218, 803, 1712, 543, 0.21351616062683643, 0.2864651773981603],\n",
       " 2: [17, 211, 2831, 217, 0.07456140350877193, 0.07264957264957266],\n",
       " 3: [2, 88, 2964, 222, 0.022222222222222223, 0.008928571428571428],\n",
       " 4: [0, 3, 3094, 179, 0.0, 0.0],\n",
       " 5: [2, 41, 3103, 130, 0.046511627906976744, 0.015151515151515152],\n",
       " 6: [1, 10, 3169, 96, 0.09090909090909091, 0.010309278350515464],\n",
       " 7: [1, 31, 3158, 86, 0.03125, 0.011494252873563218],\n",
       " 8: [0, 0, 3183, 93, 0, 0.0],\n",
       " 9: [0, 13, 3176, 87, 0.0, 0.0],\n",
       " 10: [0, 44, 3187, 45, 0.0, 0.0],\n",
       " 11: [0, 0, 3236, 40, 0, 0.0],\n",
       " 12: [0, 0, 3264, 12, 0, 0.0],\n",
       " 13: [0, 1, 3262, 13, 0.0, 0.0],\n",
       " 14: [0, 0, 3271, 5, 0, 0.0],\n",
       " 15: [2, 42, 3123, 109, 0.045454545454545456, 0.018018018018018018]}"
      ]
     },
     "execution_count": 457,
     "metadata": {},
     "output_type": "execute_result"
    }
   ],
   "source": [
    "results"
   ]
  }
 ],
 "metadata": {
  "kernelspec": {
   "display_name": "Python 3 (ipykernel)",
   "language": "python",
   "name": "python3"
  },
  "language_info": {
   "codemirror_mode": {
    "name": "ipython",
    "version": 3
   },
   "file_extension": ".py",
   "mimetype": "text/x-python",
   "name": "python",
   "nbconvert_exporter": "python",
   "pygments_lexer": "ipython3",
   "version": "3.9.7"
  }
 },
 "nbformat": 4,
 "nbformat_minor": 5
}
