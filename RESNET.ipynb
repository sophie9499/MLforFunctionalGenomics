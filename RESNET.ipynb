{
 "cells": [
  {
   "cell_type": "code",
   "execution_count": 6,
   "id": "3bc4a823",
   "metadata": {},
   "outputs": [
    {
     "name": "stdout",
     "output_type": "stream",
     "text": [
      "Torch version: 1.11.0\n"
     ]
    }
   ],
   "source": [
    "import torch\n",
    "import torch.nn as nn\n",
    "import torch.utils.data\n",
    "#assert(torch.cuda.is_available()) # if this fails go to Runtime -> Change runtime type -> Set \"Hardware Accelerator\"\n",
    "print(\"Torch version:\", torch.__version__)\n",
    "import torch.nn.functional as F\n",
    "import cv2\n",
    "import matplotlib.pyplot as plt\n",
    "from torchvision.datasets import CIFAR10\n",
    "from torchvision.transforms import transforms\n",
    "from torch.utils.data import DataLoader\n",
    "from PIL import Image\n",
    "from torchvision import transforms"
   ]
  },
  {
   "cell_type": "code",
   "execution_count": 14,
   "id": "e80a80f4",
   "metadata": {},
   "outputs": [],
   "source": [
    "cat_to_numeric={}\n",
    "with open(\"family.label.conversion.txt\") as f:\n",
    "    for line in f:\n",
    "      #  print(line)\n",
    "        cat_to_numeric[line.split()[0]]= line.split()[-1]"
   ]
  },
  {
   "cell_type": "code",
   "execution_count": 15,
   "id": "af8c3b9d",
   "metadata": {},
   "outputs": [],
   "source": [
    "isolate = []\n",
    "family = []\n",
    "with open (\"all.data\") as f:\n",
    "    for line in f:\n",
    "        isolate.append (line.split()[0])\n",
    "        family.append(line.split()[1])"
   ]
  },
  {
   "cell_type": "code",
   "execution_count": 4,
   "id": "173af069",
   "metadata": {},
   "outputs": [],
   "source": [
    "all_data=[]\n",
    "for i in range(len(isolate)):\n",
    "    iso=isolate[i]\n",
    "    lab= int(cat_to_numeric[family[i]])\n",
    "    #print(iso)\n",
    "    img_path='sub_images_final/'+iso+'.trans.bmp'\n",
    "    bgr_img = cv2.imread(img_path)\n",
    "    # Convert to grayscale\n",
    "    gray_img = cv2.cvtColor(bgr_img, cv2.COLOR_BGR2GRAY)\n",
    "    gray_img = gray_img.astype(\"float32\")/255\n",
    "    # Plot image\n",
    "    #plt.imshow(bgr_img, cmap='gray')\n",
    "    #plt.show()\n",
    "    gray_img_tensor = torch.from_numpy(gray_img).unsqueeze(0)\n",
    "    gray_img_tensor=(gray_img_tensor,lab)\n",
    "    all_data.append(gray_img_tensor)"
   ]
  },
  {
   "cell_type": "code",
   "execution_count": 27,
   "id": "98ac65fb",
   "metadata": {},
   "outputs": [],
   "source": [
    "all_data=[]\n",
    "for i in range(len(isolate)):\n",
    "    iso=isolate[i]\n",
    "    lab= int(cat_to_numeric[family[i]])\n",
    "    #print(iso)\n",
    "    img_path='sub_images_final/'+iso+'.trans.bmp'\n",
    "    input_image = Image.open(img_path)\n",
    "    preprocess = transforms.Compose([\n",
    "        transforms.Resize(256),\n",
    "        transforms.CenterCrop(224),\n",
    "        transforms.ToTensor(),\n",
    "        transforms.Normalize(mean=[0.485, 0.456, 0.406], std=[0.229, 0.224, 0.225]),\n",
    "])\n",
    "    input_tensor = preprocess(input_image)\n",
    "    \n",
    "   # input_batch = input_tensor.unsqueeze(0)\n",
    "    input_batch_tensor=(input_tensor,lab)\n",
    "    all_data.append(input_batch_tensor)"
   ]
  },
  {
   "cell_type": "code",
   "execution_count": 28,
   "id": "e6786c5d",
   "metadata": {},
   "outputs": [],
   "source": [
    "from sklearn.model_selection import train_test_split\n",
    "\n",
    "train_data, test_data = train_test_split(all_data, test_size=0.2)"
   ]
  },
  {
   "cell_type": "code",
   "execution_count": 29,
   "id": "89efcdcf",
   "metadata": {},
   "outputs": [
    {
     "name": "stdout",
     "output_type": "stream",
     "text": [
      "number of training classes are: 16\n",
      "number of test classes are: 16\n"
     ]
    }
   ],
   "source": [
    "train_label=[]\n",
    "\n",
    "for i in range(len(train_data)):\n",
    "    train_label.append(train_data[i][1])\n",
    "print(\"number of training classes are:\",len(set(train_label)) )\n",
    "\n",
    "test_label=[]\n",
    "for i in range(len(test_data)):\n",
    "    test_label.append(test_data[i][1])\n",
    "print(\"number of test classes are:\",len(set(test_label)) )"
   ]
  },
  {
   "cell_type": "code",
   "execution_count": 32,
   "id": "d8291c55",
   "metadata": {},
   "outputs": [],
   "source": [
    "train_loader = DataLoader(train_data, batch_size=20, shuffle=True, num_workers=0)\n",
    "test_loader= DataLoader(test_data,  shuffle=True, num_workers=0)"
   ]
  },
  {
   "cell_type": "code",
   "execution_count": 36,
   "id": "50cecd75",
   "metadata": {},
   "outputs": [
    {
     "data": {
      "text/plain": [
       "torch.Size([3, 224, 224])"
      ]
     },
     "execution_count": 36,
     "metadata": {},
     "output_type": "execute_result"
    }
   ],
   "source": [
    "train_data[0][0].shape"
   ]
  },
  {
   "cell_type": "code",
   "execution_count": 24,
   "id": "b2135321",
   "metadata": {},
   "outputs": [
    {
     "data": {
      "text/plain": [
       "torch.Size([1, 3, 224, 224])"
      ]
     },
     "execution_count": 24,
     "metadata": {},
     "output_type": "execute_result"
    }
   ],
   "source": [
    "input_batch.shape"
   ]
  },
  {
   "cell_type": "code",
   "execution_count": 37,
   "id": "a8cf6110",
   "metadata": {},
   "outputs": [
    {
     "name": "stderr",
     "output_type": "stream",
     "text": [
      "Using cache found in /Users/yiwei/.cache/torch/hub/pytorch_vision_v0.10.0\n"
     ]
    }
   ],
   "source": [
    "model = torch.hub.load('pytorch/vision:v0.10.0', 'resnet18', pretrained=False)\n",
    "\n"
   ]
  },
  {
   "cell_type": "code",
   "execution_count": 38,
   "id": "3795a1c9",
   "metadata": {},
   "outputs": [],
   "source": [
    "from torch.optim import Adam\n",
    " \n",
    "# Define the loss function with Classification Cross-Entropy loss and an optimizer with Adam optimizer\n",
    "loss_fn = nn.CrossEntropyLoss()\n",
    "optimizer = Adam(model.parameters(), lr=0.000001, weight_decay=0.0001)"
   ]
  },
  {
   "cell_type": "code",
   "execution_count": null,
   "id": "bd301929",
   "metadata": {},
   "outputs": [],
   "source": [
    "with torch.no_grad():\n",
    "    output = model(input_batch)"
   ]
  },
  {
   "cell_type": "code",
   "execution_count": 41,
   "id": "9b94c153",
   "metadata": {},
   "outputs": [],
   "source": [
    "from torch.autograd import Variable\n",
    "\n",
    "# Function to save the model\n",
    "def saveModel():\n",
    "    path = \"./ResNet18Model.pth\"\n",
    "    torch.save(model.state_dict(), path)\n",
    "\n",
    "# Function to test the model with the test dataset and print the accuracy for the test images\n",
    "def testAccuracy():\n",
    "    \n",
    "    model.eval()\n",
    "    accuracy = 0.0\n",
    "    total = 0.0\n",
    "    \n",
    "    with torch.no_grad():\n",
    "        for data in test_loader:\n",
    "            images, labels = data\n",
    "          #  print(labels)\n",
    "            # run the model on the test set to predict labels\n",
    "            outputs = model(images)\n",
    "            # the label with the highest energy will be our prediction\n",
    "            _, predicted = torch.max(outputs.data, 1)\n",
    "            total += labels.size(0)\n",
    "            accuracy += (predicted == labels).sum().item()\n",
    "    \n",
    "    # compute the accuracy over all test images\n",
    "    accuracy = (100 * accuracy / total)\n",
    "    return(accuracy)\n",
    "\n",
    "\n",
    "# Training function. We simply have to loop over our data iterator and feed the inputs to the network and optimize.\n",
    "def train(num_epochs):\n",
    "    \n",
    "    best_accuracy = 0.0\n",
    "\n",
    "    # Define your execution device\n",
    "    device = torch.device(\"cuda:0\" if torch.cuda.is_available() else \"cpu\")\n",
    "    print(\"The model will be running on\", device, \"device\")\n",
    "    # Convert model parameters and buffers to CPU or Cuda\n",
    "    model.to(device)\n",
    "\n",
    "    for epoch in range(num_epochs):  # loop over the dataset multiple times\n",
    "        running_loss = 0.0\n",
    "        running_acc = 0.0\n",
    "\n",
    "        for i, (images, labels) in enumerate(train_loader, 0):\n",
    "           # print(labels)\n",
    "            # get the inputs\n",
    "            images = Variable(images.to(device))\n",
    "            labels = Variable(labels.to(device))\n",
    "            #print(labels)\n",
    "            # zero the parameter gradients\n",
    "            optimizer.zero_grad()\n",
    "            # predict classes using images from the training set\n",
    "            outputs = model(images)\n",
    "            #print(outputs)\n",
    "            # compute the loss based on model output and real labels\n",
    "            loss = loss_fn(outputs, labels)\n",
    "            # backpropagate the loss\n",
    "            loss.backward()\n",
    "            # adjust parameters based on the calculated gradients\n",
    "            optimizer.step()\n",
    "\n",
    "            # Let's print statistics for every 1,000 images\n",
    "            #print(i)\n",
    "            running_loss += loss.item()     # extract the loss value\n",
    "            if i % 500 == 499:    \n",
    "                # print every 1000 (twice per epoch) \n",
    "                print('[%d, %5d] loss: %.3f' %\n",
    "                      (epoch + 1, i + 1, running_loss / 500))\n",
    "                # zero the loss\n",
    "                running_loss = 0.0\n",
    "\n",
    "        # Compute and print the average accuracy fo this epoch when tested over all 10000 test images\n",
    "        accuracy = testAccuracy()\n",
    "        print('For epoch', epoch+1,'the test accuracy over the whole test set is %d %%' % (accuracy))\n",
    "        \n",
    "        # we want to save the model if the accuracy is the best\n",
    "        if accuracy > best_accuracy:\n",
    "            saveModel()\n",
    "            best_accuracy = accuracy"
   ]
  },
  {
   "cell_type": "code",
   "execution_count": 43,
   "id": "e840f466",
   "metadata": {},
   "outputs": [
    {
     "name": "stdout",
     "output_type": "stream",
     "text": [
      "The model will be running on cpu device\n",
      "[1,   500] loss: 6.607\n",
      "For epoch 1 the test accuracy over the whole test set is 27 %\n",
      "[2,   500] loss: 2.429\n",
      "For epoch 2 the test accuracy over the whole test set is 40 %\n",
      "[3,   500] loss: 1.891\n",
      "For epoch 3 the test accuracy over the whole test set is 37 %\n",
      "[4,   500] loss: 1.849\n",
      "For epoch 4 the test accuracy over the whole test set is 40 %\n",
      "[5,   500] loss: 1.831\n",
      "For epoch 5 the test accuracy over the whole test set is 40 %\n",
      "[6,   500] loss: 1.817\n",
      "For epoch 6 the test accuracy over the whole test set is 41 %\n",
      "[7,   500] loss: 1.804\n",
      "For epoch 7 the test accuracy over the whole test set is 40 %\n",
      "[8,   500] loss: 1.788\n",
      "For epoch 8 the test accuracy over the whole test set is 41 %\n",
      "[9,   500] loss: 1.784\n",
      "For epoch 9 the test accuracy over the whole test set is 41 %\n",
      "[10,   500] loss: 1.765\n",
      "For epoch 10 the test accuracy over the whole test set is 39 %\n"
     ]
    }
   ],
   "source": [
    "train(10)"
   ]
  },
  {
   "cell_type": "code",
   "execution_count": 46,
   "id": "1790cc3e",
   "metadata": {},
   "outputs": [
    {
     "data": {
      "text/plain": [
       "<All keys matched successfully>"
      ]
     },
     "execution_count": 46,
     "metadata": {},
     "output_type": "execute_result"
    }
   ],
   "source": [
    "path = \"ResNet18Model.pth\"\n",
    "model.load_state_dict(torch.load(path))"
   ]
  },
  {
   "cell_type": "code",
   "execution_count": 47,
   "id": "0bd7793a",
   "metadata": {},
   "outputs": [],
   "source": [
    "predicted_label=[]\n",
    "def testAccuracy():\n",
    "    \n",
    "    model.eval()\n",
    "    accuracy = 0.0\n",
    "    total = 0.0\n",
    "    \n",
    "    with torch.no_grad():\n",
    "        for data in test_loader:\n",
    "            images, labels = data\n",
    "          #  print(labels)\n",
    "            # run the model on the test set to predict labels\n",
    "            outputs = model(images)\n",
    "            # the label with the highest energy will be our prediction\n",
    "            _, predicted = torch.max(outputs.data, 1)\n",
    "            predicted_label.append(int(predicted[0]))\n",
    "            total += labels.size(0)\n",
    "            accuracy += (predicted == labels).sum().item()\n",
    "    \n",
    "    # compute the accuracy over all test images\n",
    "    accuracy = (100 * accuracy / total)\n",
    "    return(accuracy)"
   ]
  },
  {
   "cell_type": "code",
   "execution_count": 48,
   "id": "93c20f45",
   "metadata": {},
   "outputs": [],
   "source": [
    "accuracy=testAccuracy()"
   ]
  },
  {
   "cell_type": "code",
   "execution_count": 51,
   "id": "d706b985",
   "metadata": {},
   "outputs": [
    {
     "name": "stdout",
     "output_type": "stream",
     "text": [
      "41.452991452991455\n"
     ]
    }
   ],
   "source": [
    "print(accuracy)"
   ]
  },
  {
   "cell_type": "code",
   "execution_count": 49,
   "id": "dfd8d9b4",
   "metadata": {},
   "outputs": [],
   "source": [
    "results={}\n",
    "for i in set(test_label):\n",
    "    #print(i)\n",
    "    #true positive:\n",
    "    tp=0\n",
    "    fp=0\n",
    "    tn=0\n",
    "    fn=0\n",
    "    for c in range(len(predicted_label)):\n",
    "        if predicted_label[c] == i:\n",
    "            if test_label[c]==i:\n",
    "                tp+=1\n",
    "            else:\n",
    "                fp+=1\n",
    "        else:\n",
    "            if test_label[c]!=i:\n",
    "                tn+=1\n",
    "            else:\n",
    "                fn+=1\n",
    "    prec=0\n",
    "    rec=0\n",
    "    if (tp+fp) >0:\n",
    "        prec= tp/(tp+fp)\n",
    "    if (tp+fn)>0:\n",
    "        rec=tp/(tp+fn)\n",
    "    results[i]=[tp, fp, tn, fn, prec,rec]"
   ]
  },
  {
   "cell_type": "code",
   "execution_count": 50,
   "id": "ec9f8431",
   "metadata": {},
   "outputs": [
    {
     "data": {
      "text/plain": [
       "{0: [754, 1274, 824, 424, 0.3717948717948718, 0.6400679117147708],\n",
       " 1: [294, 877, 1636, 469, 0.251067463706234, 0.3853211009174312],\n",
       " 2: [0, 0, 3054, 222, 0, 0.0],\n",
       " 3: [6, 14, 3059, 197, 0.3, 0.029556650246305417],\n",
       " 4: [0, 0, 3108, 168, 0, 0.0],\n",
       " 5: [0, 0, 3135, 141, 0, 0.0],\n",
       " 6: [0, 0, 3177, 99, 0, 0.0],\n",
       " 7: [0, 2, 3187, 87, 0.0, 0.0],\n",
       " 8: [0, 0, 3191, 85, 0, 0.0],\n",
       " 9: [0, 8, 3174, 94, 0.0, 0.0],\n",
       " 10: [0, 0, 3225, 51, 0, 0.0],\n",
       " 11: [0, 0, 3237, 39, 0, 0.0],\n",
       " 12: [0, 0, 3263, 13, 0, 0.0],\n",
       " 13: [0, 1, 3264, 11, 0.0, 0.0],\n",
       " 14: [0, 0, 3263, 13, 0, 0.0],\n",
       " 15: [1, 45, 3122, 108, 0.021739130434782608, 0.009174311926605505]}"
      ]
     },
     "execution_count": 50,
     "metadata": {},
     "output_type": "execute_result"
    }
   ],
   "source": [
    "results"
   ]
  },
  {
   "cell_type": "code",
   "execution_count": null,
   "id": "030ceb65",
   "metadata": {},
   "outputs": [],
   "source": []
  }
 ],
 "metadata": {
  "kernelspec": {
   "display_name": "Python 3 (ipykernel)",
   "language": "python",
   "name": "python3"
  },
  "language_info": {
   "codemirror_mode": {
    "name": "ipython",
    "version": 3
   },
   "file_extension": ".py",
   "mimetype": "text/x-python",
   "name": "python",
   "nbconvert_exporter": "python",
   "pygments_lexer": "ipython3",
   "version": "3.9.7"
  }
 },
 "nbformat": 4,
 "nbformat_minor": 5
}
